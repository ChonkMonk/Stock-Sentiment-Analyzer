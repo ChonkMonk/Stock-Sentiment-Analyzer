{
 "cells": [
  {
   "cell_type": "code",
   "execution_count": 1,
   "metadata": {},
   "outputs": [],
   "source": [
    "import pandas as pd\n",
    "import yfinance as yf\n",
    "import numpy as np\n",
    "import matplotlib.pyplot as plt\n",
    "%matplotlib inline"
   ]
  },
  {
   "cell_type": "code",
   "execution_count": 18,
   "metadata": {},
   "outputs": [
    {
     "data": {
      "text/html": [
       "<div>\n",
       "<style scoped>\n",
       "    .dataframe tbody tr th:only-of-type {\n",
       "        vertical-align: middle;\n",
       "    }\n",
       "\n",
       "    .dataframe tbody tr th {\n",
       "        vertical-align: top;\n",
       "    }\n",
       "\n",
       "    .dataframe thead th {\n",
       "        text-align: right;\n",
       "    }\n",
       "</style>\n",
       "<table border=\"1\" class=\"dataframe\">\n",
       "  <thead>\n",
       "    <tr style=\"text-align: right;\">\n",
       "      <th></th>\n",
       "      <th>Open</th>\n",
       "      <th>High</th>\n",
       "      <th>Low</th>\n",
       "      <th>Close</th>\n",
       "      <th>Volume</th>\n",
       "      <th>Dividends</th>\n",
       "      <th>Stock Splits</th>\n",
       "    </tr>\n",
       "    <tr>\n",
       "      <th>Date</th>\n",
       "      <th></th>\n",
       "      <th></th>\n",
       "      <th></th>\n",
       "      <th></th>\n",
       "      <th></th>\n",
       "      <th></th>\n",
       "      <th></th>\n",
       "    </tr>\n",
       "  </thead>\n",
       "  <tbody>\n",
       "    <tr>\n",
       "      <th>2023-01-06 00:00:00-05:00</th>\n",
       "      <td>128.833312</td>\n",
       "      <td>130.191871</td>\n",
       "      <td>125.906417</td>\n",
       "      <td>129.882202</td>\n",
       "      <td>27584500</td>\n",
       "      <td>0.0</td>\n",
       "      <td>0.0</td>\n",
       "    </tr>\n",
       "    <tr>\n",
       "      <th>2023-01-09 00:00:00-05:00</th>\n",
       "      <td>131.020990</td>\n",
       "      <td>132.809086</td>\n",
       "      <td>129.142978</td>\n",
       "      <td>129.332779</td>\n",
       "      <td>26649100</td>\n",
       "      <td>0.0</td>\n",
       "      <td>0.0</td>\n",
       "    </tr>\n",
       "    <tr>\n",
       "      <th>2023-01-10 00:00:00-05:00</th>\n",
       "      <td>127.135099</td>\n",
       "      <td>133.298565</td>\n",
       "      <td>127.015231</td>\n",
       "      <td>132.849045</td>\n",
       "      <td>28684400</td>\n",
       "      <td>0.0</td>\n",
       "      <td>0.0</td>\n",
       "    </tr>\n",
       "    <tr>\n",
       "      <th>2023-01-11 00:00:00-05:00</th>\n",
       "      <td>130.821198</td>\n",
       "      <td>133.708135</td>\n",
       "      <td>130.201845</td>\n",
       "      <td>132.749146</td>\n",
       "      <td>25423000</td>\n",
       "      <td>0.0</td>\n",
       "      <td>0.0</td>\n",
       "    </tr>\n",
       "    <tr>\n",
       "      <th>2023-01-12 00:00:00-05:00</th>\n",
       "      <td>133.298571</td>\n",
       "      <td>137.534067</td>\n",
       "      <td>131.620344</td>\n",
       "      <td>136.565109</td>\n",
       "      <td>30757700</td>\n",
       "      <td>0.0</td>\n",
       "      <td>0.0</td>\n",
       "    </tr>\n",
       "  </tbody>\n",
       "</table>\n",
       "</div>"
      ],
      "text/plain": [
       "                                 Open        High         Low       Close  \\\n",
       "Date                                                                        \n",
       "2023-01-06 00:00:00-05:00  128.833312  130.191871  125.906417  129.882202   \n",
       "2023-01-09 00:00:00-05:00  131.020990  132.809086  129.142978  129.332779   \n",
       "2023-01-10 00:00:00-05:00  127.135099  133.298565  127.015231  132.849045   \n",
       "2023-01-11 00:00:00-05:00  130.821198  133.708135  130.201845  132.749146   \n",
       "2023-01-12 00:00:00-05:00  133.298571  137.534067  131.620344  136.565109   \n",
       "\n",
       "                             Volume  Dividends  Stock Splits  \n",
       "Date                                                          \n",
       "2023-01-06 00:00:00-05:00  27584500        0.0           0.0  \n",
       "2023-01-09 00:00:00-05:00  26649100        0.0           0.0  \n",
       "2023-01-10 00:00:00-05:00  28684400        0.0           0.0  \n",
       "2023-01-11 00:00:00-05:00  25423000        0.0           0.0  \n",
       "2023-01-12 00:00:00-05:00  30757700        0.0           0.0  "
      ]
     },
     "execution_count": 18,
     "metadata": {},
     "output_type": "execute_result"
    }
   ],
   "source": [
    "ticker = yf.Ticker('META')\n",
    "df = ticker.history('15mo')\n",
    "df.head()"
   ]
  },
  {
   "cell_type": "code",
   "execution_count": 12,
   "metadata": {},
   "outputs": [
    {
     "data": {
      "text/plain": [
       "Date\n",
       "2024-01-08 00:00:00-05:00    354.324082\n",
       "2024-01-09 00:00:00-05:00    356.022240\n",
       "2024-01-10 00:00:00-05:00    359.788261\n",
       "2024-01-11 00:00:00-05:00    371.735582\n",
       "2024-01-12 00:00:00-05:00    369.767681\n",
       "                                ...    \n",
       "2024-04-01 00:00:00-04:00    487.200012\n",
       "2024-04-02 00:00:00-04:00    485.100006\n",
       "2024-04-03 00:00:00-04:00    498.929993\n",
       "2024-04-04 00:00:00-04:00    516.419983\n",
       "2024-04-05 00:00:00-04:00    516.510010\n",
       "Name: Open, Length: 62, dtype: float64"
      ]
     },
     "execution_count": 12,
     "metadata": {},
     "output_type": "execute_result"
    }
   ],
   "source": [
    "df.iloc[:, 0]"
   ]
  },
  {
   "cell_type": "code",
   "execution_count": 19,
   "metadata": {},
   "outputs": [
    {
     "name": "stdout",
     "output_type": "stream",
     "text": [
      "Open            9.777805e+01\n",
      "High            9.871391e+01\n",
      "Low             9.669209e+01\n",
      "Close           9.769302e+01\n",
      "Volume          1.289950e+07\n",
      "Dividends       2.826167e-02\n",
      "Stock Splits    0.000000e+00\n",
      "dtype: float64\n"
     ]
    }
   ],
   "source": [
    "std = df.std()\n",
    "print(std)"
   ]
  },
  {
   "cell_type": "code",
   "execution_count": null,
   "metadata": {},
   "outputs": [],
   "source": []
  },
  {
   "cell_type": "code",
   "execution_count": 15,
   "metadata": {},
   "outputs": [
    {
     "data": {
      "text/plain": [
       "Index(['Open', 'High', 'Low', 'Close', 'Volume', 'Dividends', 'Stock Splits'], dtype='object')"
      ]
     },
     "execution_count": 15,
     "metadata": {},
     "output_type": "execute_result"
    }
   ],
   "source": [
    "df.columns"
   ]
  },
  {
   "cell_type": "code",
   "execution_count": 29,
   "metadata": {},
   "outputs": [],
   "source": [
    "meta = df.copy()\n",
    "meta['Percent Change Meta'] = meta['Close'].pct_change() * 100"
   ]
  },
  {
   "cell_type": "code",
   "execution_count": 23,
   "metadata": {},
   "outputs": [
    {
     "name": "stdout",
     "output_type": "stream",
     "text": [
      "2.6289004625225565\n"
     ]
    }
   ],
   "source": [
    "percent_std = meta.std()['Percent Change']\n",
    "print(percent_std)"
   ]
  },
  {
   "cell_type": "code",
   "execution_count": 26,
   "metadata": {},
   "outputs": [
    {
     "data": {
      "text/plain": [
       "pandas.core.frame.DataFrame"
      ]
     },
     "execution_count": 26,
     "metadata": {},
     "output_type": "execute_result"
    }
   ],
   "source": [
    "type(meta)"
   ]
  },
  {
   "cell_type": "code",
   "execution_count": 21,
   "metadata": {},
   "outputs": [
    {
     "data": {
      "text/plain": [
       "<matplotlib.collections.PathCollection at 0x288ea9e9190>"
      ]
     },
     "execution_count": 21,
     "metadata": {},
     "output_type": "execute_result"
    },
    {
     "data": {
      "image/png": "[encoded data removed]",
      "text/plain": [
       "<Figure size 640x480 with 1 Axes>"
      ]
     },
     "metadata": {},
     "output_type": "display_data"
    }
   ],
   "source": [
    "plt.scatter(x = df2.index, y = df2['Percent Change'])"
   ]
  },
  {
   "cell_type": "code",
   "execution_count": 27,
   "metadata": {},
   "outputs": [
    {
     "data": {
      "text/html": [
       "<div>\n",
       "<style scoped>\n",
       "    .dataframe tbody tr th:only-of-type {\n",
       "        vertical-align: middle;\n",
       "    }\n",
       "\n",
       "    .dataframe tbody tr th {\n",
       "        vertical-align: top;\n",
       "    }\n",
       "\n",
       "    .dataframe thead th {\n",
       "        text-align: right;\n",
       "    }\n",
       "</style>\n",
       "<table border=\"1\" class=\"dataframe\">\n",
       "  <thead>\n",
       "    <tr style=\"text-align: right;\">\n",
       "      <th></th>\n",
       "      <th>Open</th>\n",
       "      <th>High</th>\n",
       "      <th>Low</th>\n",
       "      <th>Close</th>\n",
       "      <th>Volume</th>\n",
       "      <th>Dividends</th>\n",
       "      <th>Stock Splits</th>\n",
       "      <th>Capital Gains</th>\n",
       "    </tr>\n",
       "    <tr>\n",
       "      <th>Date</th>\n",
       "      <th></th>\n",
       "      <th></th>\n",
       "      <th></th>\n",
       "      <th></th>\n",
       "      <th></th>\n",
       "      <th></th>\n",
       "      <th></th>\n",
       "      <th></th>\n",
       "    </tr>\n",
       "  </thead>\n",
       "  <tbody>\n",
       "    <tr>\n",
       "      <th>2023-01-06 00:00:00-05:00</th>\n",
       "      <td>375.714518</td>\n",
       "      <td>382.234865</td>\n",
       "      <td>372.572207</td>\n",
       "      <td>381.085938</td>\n",
       "      <td>104189600</td>\n",
       "      <td>0.0</td>\n",
       "      <td>0.0</td>\n",
       "      <td>0.0</td>\n",
       "    </tr>\n",
       "    <tr>\n",
       "      <th>2023-01-09 00:00:00-05:00</th>\n",
       "      <td>383.334708</td>\n",
       "      <td>386.604711</td>\n",
       "      <td>380.683386</td>\n",
       "      <td>380.869934</td>\n",
       "      <td>73978100</td>\n",
       "      <td>0.0</td>\n",
       "      <td>0.0</td>\n",
       "      <td>0.0</td>\n",
       "    </tr>\n",
       "    <tr>\n",
       "      <th>2023-01-10 00:00:00-05:00</th>\n",
       "      <td>380.270921</td>\n",
       "      <td>383.609639</td>\n",
       "      <td>379.308571</td>\n",
       "      <td>383.540894</td>\n",
       "      <td>65358100</td>\n",
       "      <td>0.0</td>\n",
       "      <td>0.0</td>\n",
       "      <td>0.0</td>\n",
       "    </tr>\n",
       "    <tr>\n",
       "      <th>2023-01-11 00:00:00-05:00</th>\n",
       "      <td>385.161160</td>\n",
       "      <td>388.470421</td>\n",
       "      <td>384.326473</td>\n",
       "      <td>388.391846</td>\n",
       "      <td>68881100</td>\n",
       "      <td>0.0</td>\n",
       "      <td>0.0</td>\n",
       "      <td>0.0</td>\n",
       "    </tr>\n",
       "    <tr>\n",
       "      <th>2023-01-12 00:00:00-05:00</th>\n",
       "      <td>389.521126</td>\n",
       "      <td>391.308302</td>\n",
       "      <td>385.347720</td>\n",
       "      <td>389.805878</td>\n",
       "      <td>90157700</td>\n",
       "      <td>0.0</td>\n",
       "      <td>0.0</td>\n",
       "      <td>0.0</td>\n",
       "    </tr>\n",
       "  </tbody>\n",
       "</table>\n",
       "</div>"
      ],
      "text/plain": [
       "                                 Open        High         Low       Close  \\\n",
       "Date                                                                        \n",
       "2023-01-06 00:00:00-05:00  375.714518  382.234865  372.572207  381.085938   \n",
       "2023-01-09 00:00:00-05:00  383.334708  386.604711  380.683386  380.869934   \n",
       "2023-01-10 00:00:00-05:00  380.270921  383.609639  379.308571  383.540894   \n",
       "2023-01-11 00:00:00-05:00  385.161160  388.470421  384.326473  388.391846   \n",
       "2023-01-12 00:00:00-05:00  389.521126  391.308302  385.347720  389.805878   \n",
       "\n",
       "                              Volume  Dividends  Stock Splits  Capital Gains  \n",
       "Date                                                                          \n",
       "2023-01-06 00:00:00-05:00  104189600        0.0           0.0            0.0  \n",
       "2023-01-09 00:00:00-05:00   73978100        0.0           0.0            0.0  \n",
       "2023-01-10 00:00:00-05:00   65358100        0.0           0.0            0.0  \n",
       "2023-01-11 00:00:00-05:00   68881100        0.0           0.0            0.0  \n",
       "2023-01-12 00:00:00-05:00   90157700        0.0           0.0            0.0  "
      ]
     },
     "execution_count": 27,
     "metadata": {},
     "output_type": "execute_result"
    }
   ],
   "source": [
    "ticker2 = yf.Ticker('SPY')\n",
    "spy = ticker2.history('15mo')\n",
    "spy.head()"
   ]
  },
  {
   "cell_type": "code",
   "execution_count": 30,
   "metadata": {},
   "outputs": [],
   "source": [
    "spy2 = spy.copy()\n",
    "spy2['Percent Change Spy'] = spy2['Close'].pct_change() * 100"
   ]
  },
  {
   "cell_type": "code",
   "execution_count": 31,
   "metadata": {},
   "outputs": [
    {
     "data": {
      "text/html": [
       "<div>\n",
       "<style scoped>\n",
       "    .dataframe tbody tr th:only-of-type {\n",
       "        vertical-align: middle;\n",
       "    }\n",
       "\n",
       "    .dataframe tbody tr th {\n",
       "        vertical-align: top;\n",
       "    }\n",
       "\n",
       "    .dataframe thead th {\n",
       "        text-align: right;\n",
       "    }\n",
       "</style>\n",
       "<table border=\"1\" class=\"dataframe\">\n",
       "  <thead>\n",
       "    <tr style=\"text-align: right;\">\n",
       "      <th></th>\n",
       "      <th>Open_x</th>\n",
       "      <th>High_x</th>\n",
       "      <th>Low_x</th>\n",
       "      <th>Close_x</th>\n",
       "      <th>Volume_x</th>\n",
       "      <th>Dividends_x</th>\n",
       "      <th>Stock Splits_x</th>\n",
       "      <th>Capital Gains</th>\n",
       "      <th>Percent Change Spy</th>\n",
       "      <th>Open_y</th>\n",
       "      <th>High_y</th>\n",
       "      <th>Low_y</th>\n",
       "      <th>Close_y</th>\n",
       "      <th>Volume_y</th>\n",
       "      <th>Dividends_y</th>\n",
       "      <th>Stock Splits_y</th>\n",
       "      <th>Percent Change Meta</th>\n",
       "    </tr>\n",
       "    <tr>\n",
       "      <th>Date</th>\n",
       "      <th></th>\n",
       "      <th></th>\n",
       "      <th></th>\n",
       "      <th></th>\n",
       "      <th></th>\n",
       "      <th></th>\n",
       "      <th></th>\n",
       "      <th></th>\n",
       "      <th></th>\n",
       "      <th></th>\n",
       "      <th></th>\n",
       "      <th></th>\n",
       "      <th></th>\n",
       "      <th></th>\n",
       "      <th></th>\n",
       "      <th></th>\n",
       "      <th></th>\n",
       "    </tr>\n",
       "  </thead>\n",
       "  <tbody>\n",
       "    <tr>\n",
       "      <th>2023-01-06 00:00:00-05:00</th>\n",
       "      <td>375.714518</td>\n",
       "      <td>382.234865</td>\n",
       "      <td>372.572207</td>\n",
       "      <td>381.085938</td>\n",
       "      <td>104189600</td>\n",
       "      <td>0.0</td>\n",
       "      <td>0.0</td>\n",
       "      <td>0.0</td>\n",
       "      <td>NaN</td>\n",
       "      <td>128.833312</td>\n",
       "      <td>130.191871</td>\n",
       "      <td>125.906417</td>\n",
       "      <td>129.882202</td>\n",
       "      <td>27584500</td>\n",
       "      <td>0.0</td>\n",
       "      <td>0.0</td>\n",
       "      <td>NaN</td>\n",
       "    </tr>\n",
       "    <tr>\n",
       "      <th>2023-01-09 00:00:00-05:00</th>\n",
       "      <td>383.334708</td>\n",
       "      <td>386.604711</td>\n",
       "      <td>380.683386</td>\n",
       "      <td>380.869934</td>\n",
       "      <td>73978100</td>\n",
       "      <td>0.0</td>\n",
       "      <td>0.0</td>\n",
       "      <td>0.0</td>\n",
       "      <td>-0.056681</td>\n",
       "      <td>131.020990</td>\n",
       "      <td>132.809086</td>\n",
       "      <td>129.142978</td>\n",
       "      <td>129.332779</td>\n",
       "      <td>26649100</td>\n",
       "      <td>0.0</td>\n",
       "      <td>0.0</td>\n",
       "      <td>-0.423017</td>\n",
       "    </tr>\n",
       "    <tr>\n",
       "      <th>2023-01-10 00:00:00-05:00</th>\n",
       "      <td>380.270921</td>\n",
       "      <td>383.609639</td>\n",
       "      <td>379.308571</td>\n",
       "      <td>383.540894</td>\n",
       "      <td>65358100</td>\n",
       "      <td>0.0</td>\n",
       "      <td>0.0</td>\n",
       "      <td>0.0</td>\n",
       "      <td>0.701279</td>\n",
       "      <td>127.135099</td>\n",
       "      <td>133.298565</td>\n",
       "      <td>127.015231</td>\n",
       "      <td>132.849045</td>\n",
       "      <td>28684400</td>\n",
       "      <td>0.0</td>\n",
       "      <td>0.0</td>\n",
       "      <td>2.718774</td>\n",
       "    </tr>\n",
       "    <tr>\n",
       "      <th>2023-01-11 00:00:00-05:00</th>\n",
       "      <td>385.161160</td>\n",
       "      <td>388.470421</td>\n",
       "      <td>384.326473</td>\n",
       "      <td>388.391846</td>\n",
       "      <td>68881100</td>\n",
       "      <td>0.0</td>\n",
       "      <td>0.0</td>\n",
       "      <td>0.0</td>\n",
       "      <td>1.264781</td>\n",
       "      <td>130.821198</td>\n",
       "      <td>133.708135</td>\n",
       "      <td>130.201845</td>\n",
       "      <td>132.749146</td>\n",
       "      <td>25423000</td>\n",
       "      <td>0.0</td>\n",
       "      <td>0.0</td>\n",
       "      <td>-0.075198</td>\n",
       "    </tr>\n",
       "    <tr>\n",
       "      <th>2023-01-12 00:00:00-05:00</th>\n",
       "      <td>389.521126</td>\n",
       "      <td>391.308302</td>\n",
       "      <td>385.347720</td>\n",
       "      <td>389.805878</td>\n",
       "      <td>90157700</td>\n",
       "      <td>0.0</td>\n",
       "      <td>0.0</td>\n",
       "      <td>0.0</td>\n",
       "      <td>0.364074</td>\n",
       "      <td>133.298571</td>\n",
       "      <td>137.534067</td>\n",
       "      <td>131.620344</td>\n",
       "      <td>136.565109</td>\n",
       "      <td>30757700</td>\n",
       "      <td>0.0</td>\n",
       "      <td>0.0</td>\n",
       "      <td>2.874567</td>\n",
       "    </tr>\n",
       "  </tbody>\n",
       "</table>\n",
       "</div>"
      ],
      "text/plain": [
       "                               Open_x      High_x       Low_x     Close_x  \\\n",
       "Date                                                                        \n",
       "2023-01-06 00:00:00-05:00  375.714518  382.234865  372.572207  381.085938   \n",
       "2023-01-09 00:00:00-05:00  383.334708  386.604711  380.683386  380.869934   \n",
       "2023-01-10 00:00:00-05:00  380.270921  383.609639  379.308571  383.540894   \n",
       "2023-01-11 00:00:00-05:00  385.161160  388.470421  384.326473  388.391846   \n",
       "2023-01-12 00:00:00-05:00  389.521126  391.308302  385.347720  389.805878   \n",
       "\n",
       "                            Volume_x  Dividends_x  Stock Splits_x  \\\n",
       "Date                                                                \n",
       "2023-01-06 00:00:00-05:00  104189600          0.0             0.0   \n",
       "2023-01-09 00:00:00-05:00   73978100          0.0             0.0   \n",
       "2023-01-10 00:00:00-05:00   65358100          0.0             0.0   \n",
       "2023-01-11 00:00:00-05:00   68881100          0.0             0.0   \n",
       "2023-01-12 00:00:00-05:00   90157700          0.0             0.0   \n",
       "\n",
       "                           Capital Gains  Percent Change Spy      Open_y  \\\n",
       "Date                                                                       \n",
       "2023-01-06 00:00:00-05:00            0.0                 NaN  128.833312   \n",
       "2023-01-09 00:00:00-05:00            0.0           -0.056681  131.020990   \n",
       "2023-01-10 00:00:00-05:00            0.0            0.701279  127.135099   \n",
       "2023-01-11 00:00:00-05:00            0.0            1.264781  130.821198   \n",
       "2023-01-12 00:00:00-05:00            0.0            0.364074  133.298571   \n",
       "\n",
       "                               High_y       Low_y     Close_y  Volume_y  \\\n",
       "Date                                                                      \n",
       "2023-01-06 00:00:00-05:00  130.191871  125.906417  129.882202  27584500   \n",
       "2023-01-09 00:00:00-05:00  132.809086  129.142978  129.332779  26649100   \n",
       "2023-01-10 00:00:00-05:00  133.298565  127.015231  132.849045  28684400   \n",
       "2023-01-11 00:00:00-05:00  133.708135  130.201845  132.749146  25423000   \n",
       "2023-01-12 00:00:00-05:00  137.534067  131.620344  136.565109  30757700   \n",
       "\n",
       "                           Dividends_y  Stock Splits_y  Percent Change Meta  \n",
       "Date                                                                         \n",
       "2023-01-06 00:00:00-05:00          0.0             0.0                  NaN  \n",
       "2023-01-09 00:00:00-05:00          0.0             0.0            -0.423017  \n",
       "2023-01-10 00:00:00-05:00          0.0             0.0             2.718774  \n",
       "2023-01-11 00:00:00-05:00          0.0             0.0            -0.075198  \n",
       "2023-01-12 00:00:00-05:00          0.0             0.0             2.874567  "
      ]
     },
     "execution_count": 31,
     "metadata": {},
     "output_type": "execute_result"
    }
   ],
   "source": [
    "correl_df = spy2.merge(meta, left_index=True, right_index=True)\n",
    "correl_df.head()"
   ]
  },
  {
   "cell_type": "code",
   "execution_count": 32,
   "metadata": {},
   "outputs": [
    {
     "name": "stdout",
     "output_type": "stream",
     "text": [
      "                     Percent Change Spy  Percent Change Meta\n",
      "Percent Change Spy             1.000000             0.568399\n",
      "Percent Change Meta            0.568399             1.000000\n"
     ]
    }
   ],
   "source": [
    "correl_df_change = correl_df[['Percent Change Spy', 'Percent Change Meta']]\n",
    "correlation_matrix = correl_df_change.corr()\n",
    "print(correlation_matrix)"
   ]
  },
  {
   "cell_type": "code",
   "execution_count": null,
   "metadata": {},
   "outputs": [],
   "source": []
  },
  {
   "cell_type": "code",
   "execution_count": null,
   "metadata": {},
   "outputs": [],
   "source": []
  },
  {
   "cell_type": "code",
   "execution_count": null,
   "metadata": {},
   "outputs": [],
   "source": []
  },
  {
   "cell_type": "code",
   "execution_count": null,
   "metadata": {},
   "outputs": [],
   "source": []
  },
  {
   "cell_type": "code",
   "execution_count": null,
   "metadata": {},
   "outputs": [],
   "source": []
  }
 ],
 "metadata": {
  "kernelspec": {
   "display_name": "base",
   "language": "python",
   "name": "python3"
  },
  "language_info": {
   "codemirror_mode": {
    "name": "ipython",
    "version": 3
   },
   "file_extension": ".py",
   "mimetype": "text/x-python",
   "name": "python",
   "nbconvert_exporter": "python",
   "pygments_lexer": "ipython3",
   "version": "3.11.5"
  }
 },
 "nbformat": 4,
 "nbformat_minor": 2
}
