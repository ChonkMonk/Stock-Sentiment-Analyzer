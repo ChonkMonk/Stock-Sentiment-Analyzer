{
 "cells": [
  {
   "cell_type": "markdown",
   "metadata": {},
   "source": []
  },
  {
   "cell_type": "code",
   "execution_count": 3,
   "metadata": {},
   "outputs": [
    {
     "name": "stderr",
     "output_type": "stream",
     "text": [
      "c:\\Users\\richa\\anaconda3\\Lib\\site-packages\\transformers\\utils\\generic.py:260: UserWarning: torch.utils._pytree._register_pytree_node is deprecated. Please use torch.utils._pytree.register_pytree_node instead.\n",
      "  torch.utils._pytree._register_pytree_node(\n"
     ]
    }
   ],
   "source": [
    "import pandas as pd\n",
    "import numpy as np\n",
    "import matplotlib.pyplot as plt\n",
    "%matplotlib inline\n",
    "from transformers import pipeline, BertTokenizer, BertForSequenceClassification, AutoTokenizer, AutoModelForSequenceClassification"
   ]
  },
  {
   "cell_type": "code",
   "execution_count": 4,
   "metadata": {},
   "outputs": [],
   "source": [
    "model = BertForSequenceClassification.from_pretrained(\"ProsusAI/finbert\",num_labels=3)\n",
    "tokenizer = BertTokenizer.from_pretrained(\"ProsusAI/finbert\")"
   ]
  },
  {
   "cell_type": "code",
   "execution_count": 5,
   "metadata": {},
   "outputs": [],
   "source": [
    "nlp = pipeline(\"sentiment-analysis\", model = model, tokenizer = tokenizer)"
   ]
  },
  {
   "cell_type": "code",
   "execution_count": 9,
   "metadata": {},
   "outputs": [],
   "source": [
    "import re\n",
    "import pandas as pd\n",
    "import matplotlib.pyplot as plt\n",
    "from datetime import date\n",
    "from urllib.request import urlopen, Request\n",
    "from bs4 import BeautifulSoup\n",
    "\n",
    "def web_scraper(input):\n",
    "    finviz_url = \"https://finviz.com/quote.ashx?t=\"\n",
    "    ticker = input\n",
    "\n",
    "    news_tables = {}\n",
    "\n",
    "    url = finviz_url + ticker\n",
    "\n",
    "    req = Request(url = url, headers = {'user-agent': 'mega-chonk'})\n",
    "    response = urlopen(req)\n",
    "\n",
    "    html = BeautifulSoup(response, 'html')\n",
    "    news_table = html.find(id = 'news-table')\n",
    "    news_tables[ticker] = news_table\n",
    "        \n",
    "    parsed_data = []\n",
    "\n",
    "    for ticker, news_table in news_tables.items():\n",
    "        for row in news_table.findAll('tr'):\n",
    "            title = row.a.text\n",
    "            date_data = row.td.text\n",
    "            date_data = re.sub(r\"\\r\\n\", \"\", date_data)\n",
    "            date_data = re.sub(r\"\\s+\", \" \", date_data)\n",
    "            date_data = re.sub(r\"^\\s|\\s$\", \"\", date_data)\n",
    "            date_data = date_data.split(\" \")\n",
    "\n",
    "            if date_data[0].lower() == 'today':\n",
    "                date_data[0]= date.today()\n",
    "                time = date_data[1]\n",
    "            if len(date_data) == 1:\n",
    "                time = date_data[0]\n",
    "            else:\n",
    "                date_article = date_data[0]\n",
    "                time = date_data[1]\n",
    "\n",
    "            parsed_data.append([ticker, date_article, time, title])\n",
    "\n",
    "    # print(parsed_data)\n",
    "\n",
    "    df = pd.DataFrame(parsed_data, columns = ['ticker', 'date', 'time', 'title'])\n",
    "    return df"
   ]
  },
  {
   "cell_type": "code",
   "execution_count": 47,
   "metadata": {},
   "outputs": [],
   "source": [
    "class Sentiment_Analyzer:\n",
    "    def __init__(self, weighting, model, tokenizer, stdev, mean):\n",
    "        self.weight = weighting\n",
    "        self.model = model\n",
    "        self.tokenizer = tokenizer\n",
    "        self.nlp = pipeline(\"sentiment-analysis\",model = self.model, tokenizer = self.tokenizer)\n",
    "        self.stdev = stdev\n",
    "        self.mean = mean\n",
    "\n",
    "    def sentiment_label(self, title, nlp):\n",
    "        results = nlp(title)\n",
    "        label = results[0]['label']\n",
    "        return label\n",
    "    def sentiment_score(self, title, nlp):\n",
    "        results = nlp(title)\n",
    "        score= results[0]['score']\n",
    "        return score\n",
    "    def analyzer_finbert(self, df, ticker):\n",
    "        df['Sentiment Label'] = df['title'].apply(lambda title: self.sentiment_label(title, self.nlp))\n",
    "        df['Sentiment Score'] = df['title'].apply(lambda title: self.sentiment_score(title, self.nlp))\n",
    "        net_sent_score = 0\n",
    "        for row in range(df.shape[0]):\n",
    "            if df.iloc[row]['Sentiment Label'] == 'negative':\n",
    "                net_sent_score -= df.iloc[row]['Sentiment Score']\n",
    "            elif df.iloc[row]['Sentiment Label'] == 'positive':\n",
    "                net_sent_score += df.iloc[row]['Sentiment Score']\n",
    "            else:\n",
    "                pass\n",
    "        net_sent_score = net_sent_score / df.shape[0]\n",
    "        return self.weight*net_sent_score\n",
    "    def analyzer_bert(self, df, ticker):\n",
    "        df['Sentiment Label'] = df['title'].apply(lambda title: self.sentiment_label(title, self.nlp))\n",
    "        df['Sentiment Score'] = df['title'].apply(lambda title: self.sentiment_score(title, self.nlp))\n",
    "        net_sent_score = 0\n",
    "        weightings_mid = 0.5\n",
    "        for row in range(df.shape[0]):\n",
    "            if df.iloc[row]['Sentiment Label'] == '5 stars':\n",
    "                net_sent_score += df.iloc[row]['Sentiment Score']\n",
    "            elif df.iloc[row]['Sentiment Label'] == '4 stars':\n",
    "                net_sent_score += weightings_mid * df.iloc[row]['Sentiment Score']\n",
    "            elif df.iloc[row]['Sentiment Label'] == '3 stars':\n",
    "                pass\n",
    "            elif df.iloc[row]['Sentiment Label'] == '2 stars':\n",
    "                net_sent_score -= weightings_mid*df.iloc[row]['Sentiment Score']\n",
    "            elif df.iloc[row]['Sentiment Label'] == '1 star':\n",
    "                net_sent_score -= df.iloc[row]['Sentiment Score']\n",
    "        net_sent_score = net_sent_score / df.shape[0]\n",
    "        net_sent_score = (net_sent_score - self.mean)/self.stdev\n",
    "        return self.weight*net_sent_score\n",
    "    \n",
    "    def set_std_mean(self, df):\n",
    "        self.stdev = df['Sentiment Score'].std()\n",
    "        self.mean = df['Sentiment Score'].mean()\n",
    "        return (self.stdev, self.mean)"
   ]
  },
  {
   "cell_type": "code",
   "execution_count": 11,
   "metadata": {},
   "outputs": [],
   "source": [
    "finbert = Sentiment_Analyzer(1, model, tokenizer)"
   ]
  },
  {
   "cell_type": "code",
   "execution_count": 23,
   "metadata": {},
   "outputs": [],
   "source": [
    "ticker_list = ['NVDA', 'MSFT', 'ORCL', 'TSM', 'AVGO', 'ASML', 'AMD', 'CRM', 'ADBE', 'AAPL',\n",
    "               'JPM', 'BAC', 'WFC', 'AXP', 'BX', 'MS', 'HSBC', 'RY', 'MA', 'V',\n",
    "               'LLY', 'NVO', 'UNH', 'JNJ', 'ABBV', 'MRK', 'TMO', 'AZN', 'ABT', 'NVS',\n",
    "                'GE', 'CAT', 'UNP', 'UPS', 'HON','RTX','ETN','DE','BA','LMT',\n",
    "                'AMZN', 'TSLA', 'HD', 'TM', 'MCD','BABA','PDD','LOW','NKE','BKNG',\n",
    "                'LIN', 'BHP', 'RIO', 'SHW', 'SCCO','FCX','ECL','CRH','APD','VALE',\n",
    "                'PLD', 'AMT', 'EQIX', 'SPG', 'WELL','PSA','O','DLR','CCI','CSGP',\n",
    "                'GOOGL', 'META', 'NFLX', 'DIS', 'TMUS','VZ','CMCSA','T','RELX','SPOT',\n",
    "                'XOM', 'CVX', 'SHEL', 'TTE', 'COP','BP','PBR','CNQ','EQNR','MPC',\n",
    "                'WMT', 'PG', 'COST', 'KO', 'PEP','PM','BUD','UL','MDLZ','DEO',\n",
    "                'NEE', 'SO', 'DUK', 'CEG', 'NGG','SRE','AEP','D','EXC','PCG',\n",
    "               ]"
   ]
  },
  {
   "cell_type": "code",
   "execution_count": 25,
   "metadata": {},
   "outputs": [],
   "source": [
    "score_dis_finbert = pd.DataFrame({'Score':[]})"
   ]
  },
  {
   "cell_type": "code",
   "execution_count": 26,
   "metadata": {},
   "outputs": [
    {
     "name": "stdout",
     "output_type": "stream",
     "text": [
      "NVDA: -0.01930225133895874\n",
      "MSFT: -0.11872526288032531\n",
      "ORCL: 0.1320860430598259\n",
      "TSM: -0.04832781821489334\n",
      "AVGO: 0.21928513050079346\n",
      "ASML: 0.0868469911813736\n",
      "AMD: -0.16890289962291719\n",
      "CRM: 0.046415905952453616\n",
      "ADBE: -0.0871883600950241\n",
      "AAPL: -0.16058723896741867\n",
      "JPM: -0.0555382364988327\n",
      "BAC: -0.0920705395936966\n",
      "WFC: -0.08290811449289322\n",
      "AXP: 0.10253255486488343\n",
      "BX: 0.02627530097961426\n",
      "MS: -0.0172734397649765\n",
      "HSBC: -0.013246671557426452\n",
      "RY: -0.012691229283809662\n",
      "MA: 0.1674931412935257\n",
      "V: 0.06696222484111786\n",
      "LLY: -0.04775205761194229\n",
      "NVO: 0.10153740137815476\n",
      "UNH: -0.2161150985956192\n",
      "JNJ: 0.09514287412166596\n",
      "ABBV: 0.10496597945690155\n",
      "MRK: 0.26212720096111297\n",
      "TMO: -0.019492469429969787\n",
      "AZN: 0.2880526149272919\n",
      "ABT: 0.1524798008799553\n",
      "NVS: -0.016481006145477296\n",
      "GE: 0.050961278080940246\n",
      "CAT: 0.03500261336565018\n",
      "UNP: -0.13786893367767333\n",
      "UPS: 0.11716000616550445\n",
      "HON: 0.09471730291843414\n",
      "RTX: 0.26571345269680025\n",
      "ETN: 0.24600686967372895\n",
      "DE: -0.14783135592937469\n",
      "BA: -0.2739456620812416\n",
      "LMT: 0.23337339282035827\n",
      "AMZN: -0.059122367203235625\n",
      "TSLA: -0.11224366933107376\n",
      "HD: 0.06283923357725144\n",
      "TM: 0.041675757765769955\n",
      "MCD: -0.0015548157691955566\n",
      "BABA: -0.004952134191989898\n",
      "PDD: -0.03662267476320267\n",
      "LOW: -0.038814302384853366\n",
      "NKE: -0.1641064515709877\n",
      "BKNG: 0.09819535404443741\n",
      "LIN: 0.13885412186384202\n",
      "BHP: -0.09774608045816421\n",
      "RIO: -0.0016482913494110108\n",
      "SHW: 0.10162582963705064\n",
      "SCCO: 0.11214594483375549\n",
      "FCX: 0.019834022521972656\n",
      "ECL: 0.2444167935848236\n",
      "CRH: 0.1207945266366005\n",
      "APD: 0.06051697492599487\n",
      "VALE: 0.043078030049800875\n",
      "PLD: 0.11073445469141006\n",
      "AMT: 0.01626598298549652\n",
      "EQIX: 0.009484748542308807\n",
      "SPG: 0.09549462705850602\n",
      "WELL: 0.10370263397693634\n",
      "PSA: 0.08688583940267564\n",
      "O: 0.01843829721212387\n",
      "DLR: 0.10698748916387558\n",
      "CCI: -0.030832867622375488\n",
      "CSGP: 0.047639780044555664\n",
      "GOOGL: -0.02411889523267746\n",
      "META: 0.0028690582513809203\n",
      "NFLX: -0.03200689435005188\n",
      "DIS: -0.14889944165945054\n",
      "TMUS: 0.06514210969209672\n",
      "VZ: 0.0941261026263237\n",
      "CMCSA: 0.06542769670486451\n",
      "T: -0.05890963017940521\n",
      "RELX: 0.2990639618039131\n",
      "SPOT: 0.04910166829824448\n",
      "XOM: 0.004420127272605896\n",
      "CVX: 0.04056091189384461\n",
      "SHEL: -0.004253992438316345\n",
      "TTE: 0.19617624461650848\n",
      "COP: 0.0421579173207283\n",
      "BP: 0.04431625872850418\n",
      "PBR: -0.0027532312273979187\n",
      "CNQ: 0.009040833115577698\n",
      "EQNR: 0.1798609334230423\n",
      "MPC: 0.09763589382171631\n",
      "WMT: 0.05642827808856964\n",
      "PG: -0.01931717187166214\n",
      "COST: 0.019689258933067322\n",
      "KO: 0.019630148708820343\n",
      "PEP: 0.013563300967216491\n",
      "PM: -0.007651378512382507\n",
      "BUD: -0.030451527833938598\n",
      "UL: -0.18926295787096023\n",
      "MDLZ: 0.09354734063148498\n",
      "DEO: 0.005184612870216369\n",
      "NEE: 0.0049649238586425785\n",
      "SO: 0.18405704259872435\n",
      "DUK: 0.24709513545036316\n",
      "CEG: 0.19883001685142518\n",
      "NGG: 0.16065755724906922\n",
      "SRE: 0.1515321707725525\n",
      "AEP: 0.2084030681848526\n",
      "D: 0.03423792898654938\n",
      "EXC: 0.24941728085279466\n",
      "PCG: 0.15096128165721892\n"
     ]
    }
   ],
   "source": [
    "for symbol in ticker_list:\n",
    "    score = finbert.analyzer_finbert(web_scraper(symbol),symbol)\n",
    "    new_row = {'Score':score}\n",
    "    score_dis_finbert.loc[len(score_dis_finbert)] = new_row\n",
    "    print(f'{symbol}: {score}')"
   ]
  },
  {
   "cell_type": "code",
   "execution_count": 45,
   "metadata": {},
   "outputs": [],
   "source": [
    "tokenizer_bert = AutoTokenizer.from_pretrained('nlptown/bert-base-multilingual-uncased-sentiment')\n",
    "model_bert = AutoModelForSequenceClassification.from_pretrained('nlptown/bert-base-multilingual-uncased-sentiment')"
   ]
  },
  {
   "cell_type": "code",
   "execution_count": 49,
   "metadata": {},
   "outputs": [],
   "source": [
    "bert = Sentiment_Analyzer(1, model_bert, tokenizer_bert)"
   ]
  },
  {
   "cell_type": "code",
   "execution_count": 48,
   "metadata": {},
   "outputs": [],
   "source": [
    "score_dis_bert = pd.DataFrame({'Score':[]})"
   ]
  },
  {
   "cell_type": "code",
   "execution_count": 50,
   "metadata": {},
   "outputs": [
    {
     "name": "stdout",
     "output_type": "stream",
     "text": [
      "NVDA: 0.08503947839140892\n",
      "MSFT: 0.04284876793622971\n",
      "ORCL: 0.2237006264925003\n",
      "TSM: 0.0186279658973217\n",
      "AVGO: 0.2708448522537947\n",
      "ASML: 0.2651559405773878\n",
      "AMD: 0.05863800510764122\n",
      "CRM: 0.24024015210568905\n",
      "ADBE: 0.23662973180413246\n",
      "AAPL: 0.029036047980189324\n",
      "JPM: 0.24492821633815764\n",
      "BAC: 0.2134875775128603\n",
      "WFC: 0.13255288541316987\n",
      "AXP: 0.26628390088677406\n",
      "BX: -0.042206809669733045\n",
      "MS: 0.15292277246713637\n",
      "HSBC: -0.06163329228758812\n",
      "RY: 0.021761042922735216\n",
      "MA: 0.25152903363108636\n",
      "V: 0.32455011948943135\n",
      "LLY: 0.10846369117498397\n",
      "NVO: 0.08911611512303352\n",
      "UNH: -0.1442314401268959\n",
      "JNJ: 0.26197366312146186\n",
      "ABBV: 0.2724286615848541\n",
      "MRK: 0.24355812579393388\n",
      "TMO: 0.29158803790807725\n",
      "AZN: 0.06380745232105255\n",
      "ABT: 0.28670653894543646\n",
      "NVS: 0.153265288323164\n",
      "GE: 0.22941074177622794\n",
      "CAT: 0.24829943761229514\n",
      "UNP: 0.12811100229620934\n",
      "UPS: 0.16458407379686832\n",
      "HON: 0.3091900987923145\n",
      "RTX: 0.33723595246672633\n",
      "ETN: 0.30429304510354993\n",
      "DE: 0.24766064286231995\n",
      "BA: -0.2196473254263401\n",
      "LMT: 0.3111264243721962\n",
      "AMZN: 0.04666610591113567\n",
      "TSLA: 0.006298247650265694\n",
      "HD: 0.22551162503659725\n",
      "TM: 0.1568796567618847\n",
      "MCD: 0.02075271129608154\n",
      "BABA: 0.0007923512160778046\n",
      "PDD: -0.05122935242950916\n",
      "LOW: 0.1660536363720894\n",
      "NKE: 0.06848793253302574\n",
      "BKNG: 0.21972089931368827\n",
      "LIN: 0.2501314716786146\n",
      "BHP: 0.21996929123997688\n",
      "RIO: 0.15061939582228662\n",
      "SHW: 0.19244004607200624\n",
      "SCCO: 0.15306328043341635\n",
      "FCX: 0.2030931629985571\n",
      "ECL: 0.3195957258343697\n",
      "CRH: 0.22276954770088195\n",
      "APD: 0.29143059059977533\n",
      "VALE: 0.2578638457506895\n",
      "PLD: 0.1901357475668192\n",
      "AMT: 0.28890442341566086\n",
      "EQIX: 0.14913804166018962\n",
      "SPG: 0.14848228067159652\n",
      "WELL: 0.24833716571331024\n",
      "PSA: 0.2109013670682907\n",
      "O: 0.14050825558602809\n",
      "DLR: 0.27617854811251163\n",
      "CCI: 0.19163579538464545\n",
      "CSGP: 0.13915096335113047\n",
      "GOOGL: 0.12412201076745986\n",
      "META: 0.049895250648260114\n",
      "NFLX: 0.12409742370247841\n",
      "DIS: 0.0557961368560791\n",
      "TMUS: 0.11372452035546303\n",
      "VZ: 0.23260647624731065\n",
      "CMCSA: 0.21651023030281066\n",
      "T: -0.004612156227231026\n",
      "RELX: 0.2499907085299492\n",
      "SPOT: 0.13269385904073716\n",
      "XOM: 0.06937640875577927\n",
      "CVX: 0.24362870886921884\n",
      "SHEL: 0.14816074103116988\n",
      "TTE: 0.04976011797785759\n",
      "COP: 0.11065266691148282\n",
      "BP: 0.05178981736302376\n",
      "PBR: 0.00314199797809124\n",
      "CNQ: 0.20685402497649194\n",
      "EQNR: 0.19524124190211295\n",
      "MPC: 0.19784055091440678\n",
      "WMT: 0.1934601305425167\n",
      "PG: 0.348251496553421\n",
      "COST: 0.14555962935090064\n",
      "KO: 0.24981759421527386\n",
      "PEP: 0.30675588399171827\n",
      "PM: 0.29752298824489115\n",
      "BUD: -0.04019476108253002\n",
      "UL: 0.14750257074832918\n",
      "MDLZ: 0.3007626455277205\n",
      "DEO: 0.34384739592671393\n",
      "NEE: 0.17908585220575332\n",
      "SO: 0.2064533367753029\n",
      "DUK: 0.29169143214821813\n",
      "CEG: 0.29955898702144623\n",
      "NGG: 0.17114229686558247\n",
      "SRE: 0.2637119038403034\n",
      "AEP: 0.15494964852929116\n",
      "D: 0.19831486359238626\n",
      "EXC: 0.28727810323238373\n",
      "PCG: 0.1031255254149437\n"
     ]
    }
   ],
   "source": [
    "for symbol in ticker_list:\n",
    "    score = bert.analyzer_bert(web_scraper(symbol),symbol)\n",
    "    new_row = {'Score':score}\n",
    "    score_dis_bert.loc[len(score_dis_bert)] = new_row\n",
    "    print(f'{symbol}: {score}')"
   ]
  },
  {
   "cell_type": "code",
   "execution_count": 27,
   "metadata": {},
   "outputs": [
    {
     "data": {
      "text/plain": [
       "<Axes: ylabel='Count'>"
      ]
     },
     "execution_count": 27,
     "metadata": {},
     "output_type": "execute_result"
    },
    {
     "data": {
      "image/png": "[encoded data removed]",
      "text/plain": [
       "<Figure size 640x480 with 1 Axes>"
      ]
     },
     "metadata": {},
     "output_type": "display_data"
    }
   ],
   "source": [
    "import seaborn as sns\n",
    "\n",
    "sns.histplot(score_dis_finbert)"
   ]
  },
  {
   "cell_type": "code",
   "execution_count": 51,
   "metadata": {},
   "outputs": [
    {
     "data": {
      "text/plain": [
       "<Axes: ylabel='Count'>"
      ]
     },
     "execution_count": 51,
     "metadata": {},
     "output_type": "execute_result"
    },
    {
     "data": {
      "image/png": "[encoded data removed]",
      "text/plain": [
       "<Figure size 640x480 with 1 Axes>"
      ]
     },
     "metadata": {},
     "output_type": "display_data"
    }
   ],
   "source": [
    "sns.histplot(score_dis_bert)"
   ]
  },
  {
   "cell_type": "code",
   "execution_count": 60,
   "metadata": {},
   "outputs": [
    {
     "name": "stdout",
     "output_type": "stream",
     "text": [
      "Score    0.111135\n",
      "dtype: float64 Score    0.170782\n",
      "dtype: float64\n"
     ]
    }
   ],
   "source": [
    "bert_stdev = score_dis_bert.std()\n",
    "bert_mean = score_dis_bert.mean()\n",
    "print(bert_stdev, bert_mean)"
   ]
  },
  {
   "cell_type": "code",
   "execution_count": 61,
   "metadata": {},
   "outputs": [
    {
     "name": "stdout",
     "output_type": "stream",
     "text": [
      "Score    0.042921\n",
      "dtype: float64 Score    0.114567\n",
      "dtype: float64\n"
     ]
    }
   ],
   "source": [
    "finbert_stdev = score_dis_finbert.std()\n",
    "finbert_mean = score_dis_finbert.mean()\n",
    "print(finbert_mean, finbert_stdev)"
   ]
  },
  {
   "cell_type": "code",
   "execution_count": 55,
   "metadata": {},
   "outputs": [],
   "source": [
    "bert_norm = (score_dis_bert - bert_mean)/bert_stdev\n",
    "finbert_norm = (score_dis_finbert - finbert_mean) / finbert_stdev"
   ]
  },
  {
   "cell_type": "code",
   "execution_count": 58,
   "metadata": {},
   "outputs": [
    {
     "name": "stdout",
     "output_type": "stream",
     "text": [
      "      Score\n",
      "0 -0.771514\n",
      "1 -1.151147\n",
      "2  0.476162\n",
      "3 -1.369087\n",
      "4  0.900367\n",
      "      Score\n",
      "0 -0.543120\n",
      "1 -1.410939\n",
      "2  0.778280\n",
      "3 -0.796472\n",
      "4  1.539402\n"
     ]
    }
   ],
   "source": [
    "print(bert_norm.head())\n",
    "print(finbert_norm.head())"
   ]
  },
  {
   "cell_type": "code",
   "execution_count": 59,
   "metadata": {},
   "outputs": [
    {
     "data": {
      "text/plain": [
       "<Axes: ylabel='Count'>"
      ]
     },
     "execution_count": 59,
     "metadata": {},
     "output_type": "execute_result"
    },
    {
     "data": {
      "image/png": "[encoded data removed]",
      "text/plain": [
       "<Figure size 640x480 with 1 Axes>"
      ]
     },
     "metadata": {},
     "output_type": "display_data"
    }
   ],
   "source": [
    "sns.histplot(finbert_norm)"
   ]
  },
  {
   "cell_type": "code",
   "execution_count": 74,
   "metadata": {},
   "outputs": [
    {
     "name": "stdout",
     "output_type": "stream",
     "text": [
      "Score    0.055707\n",
      "dtype: float64\n"
     ]
    },
    {
     "data": {
      "text/plain": [
       "<Axes: ylabel='Count'>"
      ]
     },
     "execution_count": 74,
     "metadata": {},
     "output_type": "execute_result"
    },
    {
     "data": {
      "image/png": "[encoded data removed]",
      "text/plain": [
       "<Figure size 640x480 with 1 Axes>"
      ]
     },
     "metadata": {},
     "output_type": "display_data"
    }
   ],
   "source": [
    "weight1 = 0.1\n",
    "weight2 = 0.9\n",
    "combined = weight1*score_dis_bert + weight2*score_dis_finbert\n",
    "combined.head()\n",
    "print(combined.mean())\n",
    "sns.histplot(combined)"
   ]
  },
  {
   "cell_type": "code",
   "execution_count": null,
   "metadata": {},
   "outputs": [],
   "source": []
  }
 ],
 "metadata": {
  "kernelspec": {
   "display_name": "base",
   "language": "python",
   "name": "python3"
  },
  "language_info": {
   "codemirror_mode": {
    "name": "ipython",
    "version": 3
   },
   "file_extension": ".py",
   "mimetype": "text/x-python",
   "name": "python",
   "nbconvert_exporter": "python",
   "pygments_lexer": "ipython3",
   "version": "3.11.5"
  }
 },
 "nbformat": 4,
 "nbformat_minor": 2
}
