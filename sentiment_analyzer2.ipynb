{
 "cells": [
  {
   "cell_type": "code",
   "execution_count": 29,
   "metadata": {},
   "outputs": [],
   "source": [
    "import pandas as pd\n",
    "from transformers import AutoTokenizer, AutoModelForSequenceClassification\n",
    "import torch\n",
    "from web_scraper import web_scraper"
   ]
  },
  {
   "cell_type": "markdown",
   "metadata": {},
   "source": [
    "How it works:\n",
    "compute distribution of 100 things\n",
    "plot it\n",
    "find std deviation\n",
    "bam standardize it!"
   ]
  },
  {
   "cell_type": "code",
   "execution_count": 30,
   "metadata": {},
   "outputs": [
    {
     "name": "stderr",
     "output_type": "stream",
     "text": [
      "c:\\Users\\richa\\OneDrive\\Desktop\\Coding\\Stock-Sentiment-Analyzer\\web_scraper.py:19: GuessedAtParserWarning: No parser was explicitly specified, so I'm using the best available HTML parser for this system (\"lxml\"). This usually isn't a problem, but if you run this code on another system, or in a different virtual environment, it may use a different parser and behave differently.\n",
      "\n",
      "The code that caused this warning is on line 19 of the file c:\\Users\\richa\\OneDrive\\Desktop\\Coding\\Stock-Sentiment-Analyzer\\web_scraper.py. To get rid of this warning, pass the additional argument 'features=\"lxml\"' to the BeautifulSoup constructor.\n",
      "\n",
      "  html = BeautifulSoup(response, 'html')\n"
     ]
    }
   ],
   "source": [
    "df, ticker = web_scraper()"
   ]
  },
  {
   "cell_type": "code",
   "execution_count": 31,
   "metadata": {},
   "outputs": [],
   "source": [
    "tokenizer = AutoTokenizer.from_pretrained('nlptown/bert-base-multilingual-uncased-sentiment')\n",
    "model = AutoModelForSequenceClassification.from_pretrained('nlptown/bert-base-multilingual-uncased-sentiment')"
   ]
  },
  {
   "cell_type": "code",
   "execution_count": 32,
   "metadata": {},
   "outputs": [
    {
     "name": "stdout",
     "output_type": "stream",
     "text": [
      "  ticker        date     time  \\\n",
      "0   TSLA  2024-03-15  10:11AM   \n",
      "1   TSLA  2024-03-15  10:06AM   \n",
      "2   TSLA  2024-03-15  09:53AM   \n",
      "3   TSLA  2024-03-15  09:47AM   \n",
      "4   TSLA  2024-03-15  09:30AM   \n",
      "\n",
      "                                               title  \n",
      "0  Magnificent Seven Stocks To Buy And Watch: App...  \n",
      "1  Japanese Automakers Honda, Nissan Explore EV P...  \n",
      "2  Top analyst faces harsh criticism about his st...  \n",
      "3  Fisker Jumps On 'Strategic' Talks With Auto Gi...  \n",
      "4  Tesla Stock Hit 10-Month Lows But Dive Doesn't...  \n"
     ]
    }
   ],
   "source": [
    "print(df.head())"
   ]
  },
  {
   "cell_type": "code",
   "execution_count": 33,
   "metadata": {},
   "outputs": [],
   "source": [
    "def sentiment_score(title, tokenizer, model):\n",
    "    tokens = tokenizer.encode(title, return_tensors= 'pt')\n",
    "    results = model(tokens)\n",
    "    scores = int(torch.argmax(results.logits))+1\n",
    "    return scores"
   ]
  },
  {
   "cell_type": "code",
   "execution_count": 34,
   "metadata": {},
   "outputs": [
    {
     "data": {
      "text/plain": [
       "5"
      ]
     },
     "execution_count": 34,
     "metadata": {},
     "output_type": "execute_result"
    }
   ],
   "source": [
    "sentiment_score('I love amongus', tokenizer, model)"
   ]
  },
  {
   "cell_type": "code",
   "execution_count": 35,
   "metadata": {},
   "outputs": [],
   "source": [
    "df['Sentiment Score'] = df['title'].apply(lambda title: sentiment_score(title, tokenizer, model))"
   ]
  },
  {
   "cell_type": "code",
   "execution_count": 36,
   "metadata": {},
   "outputs": [],
   "source": [
    "import matplotlib.pyplot as plt\n",
    "%matplotlib inline"
   ]
  },
  {
   "cell_type": "code",
   "execution_count": 37,
   "metadata": {},
   "outputs": [
    {
     "data": {
      "text/plain": [
       "0    5\n",
       "1    5\n",
       "2    5\n",
       "3    1\n",
       "4    3\n",
       "Name: Sentiment Score, dtype: int64"
      ]
     },
     "execution_count": 37,
     "metadata": {},
     "output_type": "execute_result"
    }
   ],
   "source": [
    "score_distribution = df['Sentiment Score']\n",
    "score_distribution.head()"
   ]
  },
  {
   "cell_type": "code",
   "execution_count": 38,
   "metadata": {},
   "outputs": [
    {
     "data": {
      "text/plain": [
       "(array([48.,  0.,  7.,  0.,  0.,  8.,  0.,  8.,  0., 29.]),\n",
       " array([1. , 1.4, 1.8, 2.2, 2.6, 3. , 3.4, 3.8, 4.2, 4.6, 5. ]),\n",
       " <BarContainer object of 10 artists>)"
      ]
     },
     "execution_count": 38,
     "metadata": {},
     "output_type": "execute_result"
    },
    {
     "data": {
      "image/png": "[encoded data removed]",
      "text/plain": [
       "<Figure size 640x480 with 1 Axes>"
      ]
     },
     "metadata": {},
     "output_type": "display_data"
    }
   ],
   "source": [
    "plt.hist(score_distribution, rwidth = 0.9)"
   ]
  },
  {
   "cell_type": "code",
   "execution_count": 39,
   "metadata": {},
   "outputs": [],
   "source": [
    "df['Sentiment Scores'] = df['title'].apply(lambda title: sentiment_score(title, tokenizer, model))\n",
    "mean_sentiment = df.groupby(['date']).mean(['Sentiment Scores'])\n",
    "overall_sentiment_series = mean_sentiment.mean()\n",
    "overall_sentiment = overall_sentiment_series.iloc[0]"
   ]
  },
  {
   "cell_type": "code",
   "execution_count": 40,
   "metadata": {},
   "outputs": [
    {
     "name": "stdout",
     "output_type": "stream",
     "text": [
      "2.700728006568828\n"
     ]
    }
   ],
   "source": [
    "print(overall_sentiment)"
   ]
  },
  {
   "cell_type": "code",
   "execution_count": 47,
   "metadata": {},
   "outputs": [],
   "source": [
    "import re\n",
    "import pandas as pd\n",
    "import matplotlib.pyplot as plt\n",
    "from datetime import date\n",
    "from urllib.request import urlopen, Request\n",
    "from bs4 import BeautifulSoup\n",
    "\n",
    "def web_scraper(input):\n",
    "    finviz_url = \"https://finviz.com/quote.ashx?t=\"\n",
    "    ticker = input\n",
    "\n",
    "    news_tables = {}\n",
    "\n",
    "    url = finviz_url + ticker\n",
    "\n",
    "    req = Request(url = url, headers = {'user-agent': 'mega-chonk'})\n",
    "    response = urlopen(req)\n",
    "\n",
    "    html = BeautifulSoup(response, 'html')\n",
    "    news_table = html.find(id = 'news-table')\n",
    "    news_tables[ticker] = news_table\n",
    "        \n",
    "    parsed_data = []\n",
    "\n",
    "    for ticker, news_table in news_tables.items():\n",
    "        for row in news_table.findAll('tr'):\n",
    "            title = row.a.text\n",
    "            date_data = row.td.text\n",
    "            date_data = re.sub(r\"\\r\\n\", \"\", date_data)\n",
    "            date_data = re.sub(r\"\\s+\", \" \", date_data)\n",
    "            date_data = re.sub(r\"^\\s|\\s$\", \"\", date_data)\n",
    "            date_data = date_data.split(\" \")\n",
    "\n",
    "            if date_data[0].lower() == 'today':\n",
    "                date_data[0]= date.today()\n",
    "                time = date_data[1]\n",
    "            if len(date_data) == 1:\n",
    "                time = date_data[0]\n",
    "            else:\n",
    "                date_article = date_data[0]\n",
    "                time = date_data[1]\n",
    "\n",
    "            parsed_data.append([ticker, date_article, time, title])\n",
    "\n",
    "    # print(parsed_data)\n",
    "\n",
    "    df = pd.DataFrame(parsed_data, columns = ['ticker', 'date', 'time', 'title'])\n",
    "    return df"
   ]
  },
  {
   "cell_type": "code",
   "execution_count": 50,
   "metadata": {},
   "outputs": [],
   "source": [
    "def Sentiment_Analysis2(df):\n",
    "    tokenizer = AutoTokenizer.from_pretrained('nlptown/bert-base-multilingual-uncased-sentiment')\n",
    "    model = AutoModelForSequenceClassification.from_pretrained('nlptown/bert-base-multilingual-uncased-sentiment')\n",
    "    df['date'] = pd.to_datetime(df['date']).dt.date\n",
    "\n",
    "    df['Sentiment Scores'] = df['title'].apply(lambda title: sentiment_score(title, tokenizer, model))\n",
    "    mean_sentiment = df.groupby(['date']).mean(['Sentiment Scores'])\n",
    "\n",
    "    overall_sentiment_series = mean_sentiment.mean()\n",
    "    overall_sentiment = overall_sentiment_series.iloc[0]\n",
    "    return overall_sentiment"
   ]
  },
  {
   "cell_type": "code",
   "execution_count": 41,
   "metadata": {},
   "outputs": [],
   "source": [
    "ticker_list = ['NVDA', 'MSFT', 'ORCL', 'TSM', 'AVGO', 'ASML', 'AMD', 'CRM', 'ADBE', 'AAPL',\n",
    "               'JPM', 'BAC', 'WFC', 'AXP', 'BX', 'MS', 'HSBC', 'RY', 'MA', 'V',\n",
    "               'LLY', 'NVO', 'UNH', 'JNJ', 'ABBV', 'MRK', 'TMO', 'AZN', 'ABT', 'NVS',\n",
    "                'GE', 'CAT', 'UNP', 'UPS', 'HON',\n",
    "                'AMZN', 'TSLA', 'HD', 'TM', 'MCD',\n",
    "                'LIN', 'BHP', 'RIO', 'SHW', 'SCCO',\n",
    "                'PLD', 'AMT', 'EQIX', 'SPG', 'WELL',\n",
    "                'GOOGL', 'META', 'NFLX', 'DIS', 'TMUS',\n",
    "                'XOM', 'CVX', 'SHEL', 'TTE', 'COP',\n",
    "                'WMT', 'PG', 'COST', 'KO', 'PEP',\n",
    "                'NEE', 'SO', 'DUK', 'CEG', 'NGG'\n",
    "               ]"
   ]
  },
  {
   "cell_type": "code",
   "execution_count": 44,
   "metadata": {},
   "outputs": [],
   "source": [
    "score_dis = pd.DataFrame({'Score': []})"
   ]
  },
  {
   "cell_type": "code",
   "execution_count": 51,
   "metadata": {},
   "outputs": [
    {
     "name": "stderr",
     "output_type": "stream",
     "text": [
      "C:\\Users\\richa\\AppData\\Local\\Temp\\ipykernel_9988\\1921624673.py:4: UserWarning: Could not infer format, so each element will be parsed individually, falling back to `dateutil`. To ensure parsing is consistent and as-expected, please specify a format.\n",
      "  df['date'] = pd.to_datetime(df['date']).dt.date\n",
      "C:\\Users\\richa\\AppData\\Local\\Temp\\ipykernel_9988\\1921624673.py:4: UserWarning: Could not infer format, so each element will be parsed individually, falling back to `dateutil`. To ensure parsing is consistent and as-expected, please specify a format.\n",
      "  df['date'] = pd.to_datetime(df['date']).dt.date\n",
      "C:\\Users\\richa\\AppData\\Local\\Temp\\ipykernel_9988\\1921624673.py:4: UserWarning: Could not infer format, so each element will be parsed individually, falling back to `dateutil`. To ensure parsing is consistent and as-expected, please specify a format.\n",
      "  df['date'] = pd.to_datetime(df['date']).dt.date\n",
      "C:\\Users\\richa\\AppData\\Local\\Temp\\ipykernel_9988\\1921624673.py:4: UserWarning: Could not infer format, so each element will be parsed individually, falling back to `dateutil`. To ensure parsing is consistent and as-expected, please specify a format.\n",
      "  df['date'] = pd.to_datetime(df['date']).dt.date\n",
      "C:\\Users\\richa\\AppData\\Local\\Temp\\ipykernel_9988\\1921624673.py:4: UserWarning: Could not infer format, so each element will be parsed individually, falling back to `dateutil`. To ensure parsing is consistent and as-expected, please specify a format.\n",
      "  df['date'] = pd.to_datetime(df['date']).dt.date\n",
      "C:\\Users\\richa\\AppData\\Local\\Temp\\ipykernel_9988\\1921624673.py:4: UserWarning: Could not infer format, so each element will be parsed individually, falling back to `dateutil`. To ensure parsing is consistent and as-expected, please specify a format.\n",
      "  df['date'] = pd.to_datetime(df['date']).dt.date\n",
      "C:\\Users\\richa\\AppData\\Local\\Temp\\ipykernel_9988\\1921624673.py:4: UserWarning: Could not infer format, so each element will be parsed individually, falling back to `dateutil`. To ensure parsing is consistent and as-expected, please specify a format.\n",
      "  df['date'] = pd.to_datetime(df['date']).dt.date\n",
      "C:\\Users\\richa\\AppData\\Local\\Temp\\ipykernel_9988\\1921624673.py:4: UserWarning: Could not infer format, so each element will be parsed individually, falling back to `dateutil`. To ensure parsing is consistent and as-expected, please specify a format.\n",
      "  df['date'] = pd.to_datetime(df['date']).dt.date\n",
      "C:\\Users\\richa\\AppData\\Local\\Temp\\ipykernel_9988\\1921624673.py:4: UserWarning: Could not infer format, so each element will be parsed individually, falling back to `dateutil`. To ensure parsing is consistent and as-expected, please specify a format.\n",
      "  df['date'] = pd.to_datetime(df['date']).dt.date\n",
      "C:\\Users\\richa\\AppData\\Local\\Temp\\ipykernel_9988\\1921624673.py:4: UserWarning: Could not infer format, so each element will be parsed individually, falling back to `dateutil`. To ensure parsing is consistent and as-expected, please specify a format.\n",
      "  df['date'] = pd.to_datetime(df['date']).dt.date\n",
      "C:\\Users\\richa\\AppData\\Local\\Temp\\ipykernel_9988\\1921624673.py:4: UserWarning: Could not infer format, so each element will be parsed individually, falling back to `dateutil`. To ensure parsing is consistent and as-expected, please specify a format.\n",
      "  df['date'] = pd.to_datetime(df['date']).dt.date\n",
      "C:\\Users\\richa\\AppData\\Local\\Temp\\ipykernel_9988\\1921624673.py:4: UserWarning: Could not infer format, so each element will be parsed individually, falling back to `dateutil`. To ensure parsing is consistent and as-expected, please specify a format.\n",
      "  df['date'] = pd.to_datetime(df['date']).dt.date\n",
      "C:\\Users\\richa\\AppData\\Local\\Temp\\ipykernel_9988\\1921624673.py:4: UserWarning: Could not infer format, so each element will be parsed individually, falling back to `dateutil`. To ensure parsing is consistent and as-expected, please specify a format.\n",
      "  df['date'] = pd.to_datetime(df['date']).dt.date\n",
      "C:\\Users\\richa\\AppData\\Local\\Temp\\ipykernel_9988\\1921624673.py:4: UserWarning: Could not infer format, so each element will be parsed individually, falling back to `dateutil`. To ensure parsing is consistent and as-expected, please specify a format.\n",
      "  df['date'] = pd.to_datetime(df['date']).dt.date\n",
      "C:\\Users\\richa\\AppData\\Local\\Temp\\ipykernel_9988\\1921624673.py:4: UserWarning: Could not infer format, so each element will be parsed individually, falling back to `dateutil`. To ensure parsing is consistent and as-expected, please specify a format.\n",
      "  df['date'] = pd.to_datetime(df['date']).dt.date\n",
      "C:\\Users\\richa\\AppData\\Local\\Temp\\ipykernel_9988\\1921624673.py:4: UserWarning: Could not infer format, so each element will be parsed individually, falling back to `dateutil`. To ensure parsing is consistent and as-expected, please specify a format.\n",
      "  df['date'] = pd.to_datetime(df['date']).dt.date\n",
      "C:\\Users\\richa\\AppData\\Local\\Temp\\ipykernel_9988\\1921624673.py:4: UserWarning: Could not infer format, so each element will be parsed individually, falling back to `dateutil`. To ensure parsing is consistent and as-expected, please specify a format.\n",
      "  df['date'] = pd.to_datetime(df['date']).dt.date\n",
      "C:\\Users\\richa\\AppData\\Local\\Temp\\ipykernel_9988\\1921624673.py:4: UserWarning: Could not infer format, so each element will be parsed individually, falling back to `dateutil`. To ensure parsing is consistent and as-expected, please specify a format.\n",
      "  df['date'] = pd.to_datetime(df['date']).dt.date\n",
      "C:\\Users\\richa\\AppData\\Local\\Temp\\ipykernel_9988\\1921624673.py:4: UserWarning: Could not infer format, so each element will be parsed individually, falling back to `dateutil`. To ensure parsing is consistent and as-expected, please specify a format.\n",
      "  df['date'] = pd.to_datetime(df['date']).dt.date\n",
      "C:\\Users\\richa\\AppData\\Local\\Temp\\ipykernel_9988\\1921624673.py:4: UserWarning: Could not infer format, so each element will be parsed individually, falling back to `dateutil`. To ensure parsing is consistent and as-expected, please specify a format.\n",
      "  df['date'] = pd.to_datetime(df['date']).dt.date\n",
      "C:\\Users\\richa\\AppData\\Local\\Temp\\ipykernel_9988\\1921624673.py:4: UserWarning: Could not infer format, so each element will be parsed individually, falling back to `dateutil`. To ensure parsing is consistent and as-expected, please specify a format.\n",
      "  df['date'] = pd.to_datetime(df['date']).dt.date\n",
      "C:\\Users\\richa\\AppData\\Local\\Temp\\ipykernel_9988\\1921624673.py:4: UserWarning: Could not infer format, so each element will be parsed individually, falling back to `dateutil`. To ensure parsing is consistent and as-expected, please specify a format.\n",
      "  df['date'] = pd.to_datetime(df['date']).dt.date\n",
      "C:\\Users\\richa\\AppData\\Local\\Temp\\ipykernel_9988\\1921624673.py:4: UserWarning: Could not infer format, so each element will be parsed individually, falling back to `dateutil`. To ensure parsing is consistent and as-expected, please specify a format.\n",
      "  df['date'] = pd.to_datetime(df['date']).dt.date\n",
      "C:\\Users\\richa\\AppData\\Local\\Temp\\ipykernel_9988\\1921624673.py:4: UserWarning: Could not infer format, so each element will be parsed individually, falling back to `dateutil`. To ensure parsing is consistent and as-expected, please specify a format.\n",
      "  df['date'] = pd.to_datetime(df['date']).dt.date\n",
      "C:\\Users\\richa\\AppData\\Local\\Temp\\ipykernel_9988\\1921624673.py:4: UserWarning: Could not infer format, so each element will be parsed individually, falling back to `dateutil`. To ensure parsing is consistent and as-expected, please specify a format.\n",
      "  df['date'] = pd.to_datetime(df['date']).dt.date\n",
      "C:\\Users\\richa\\AppData\\Local\\Temp\\ipykernel_9988\\1921624673.py:4: UserWarning: Could not infer format, so each element will be parsed individually, falling back to `dateutil`. To ensure parsing is consistent and as-expected, please specify a format.\n",
      "  df['date'] = pd.to_datetime(df['date']).dt.date\n",
      "C:\\Users\\richa\\AppData\\Local\\Temp\\ipykernel_9988\\1921624673.py:4: UserWarning: Could not infer format, so each element will be parsed individually, falling back to `dateutil`. To ensure parsing is consistent and as-expected, please specify a format.\n",
      "  df['date'] = pd.to_datetime(df['date']).dt.date\n",
      "C:\\Users\\richa\\AppData\\Local\\Temp\\ipykernel_9988\\1921624673.py:4: UserWarning: Could not infer format, so each element will be parsed individually, falling back to `dateutil`. To ensure parsing is consistent and as-expected, please specify a format.\n",
      "  df['date'] = pd.to_datetime(df['date']).dt.date\n",
      "C:\\Users\\richa\\AppData\\Local\\Temp\\ipykernel_9988\\1921624673.py:4: UserWarning: Could not infer format, so each element will be parsed individually, falling back to `dateutil`. To ensure parsing is consistent and as-expected, please specify a format.\n",
      "  df['date'] = pd.to_datetime(df['date']).dt.date\n"
     ]
    }
   ],
   "source": [
    "for ticker in ticker_list:\n",
    "    score = Sentiment_Analysis2(web_scraper(ticker))\n",
    "    new_row = {'Score': score}\n",
    "    score_dis.loc[len(score_dis)] = new_row"
   ]
  },
  {
   "cell_type": "code",
   "execution_count": 52,
   "metadata": {},
   "outputs": [
    {
     "data": {
      "text/html": [
       "<div>\n",
       "<style scoped>\n",
       "    .dataframe tbody tr th:only-of-type {\n",
       "        vertical-align: middle;\n",
       "    }\n",
       "\n",
       "    .dataframe tbody tr th {\n",
       "        vertical-align: top;\n",
       "    }\n",
       "\n",
       "    .dataframe thead th {\n",
       "        text-align: right;\n",
       "    }\n",
       "</style>\n",
       "<table border=\"1\" class=\"dataframe\">\n",
       "  <thead>\n",
       "    <tr style=\"text-align: right;\">\n",
       "      <th></th>\n",
       "      <th>Score</th>\n",
       "    </tr>\n",
       "  </thead>\n",
       "  <tbody>\n",
       "    <tr>\n",
       "      <th>0</th>\n",
       "      <td>3.597884</td>\n",
       "    </tr>\n",
       "    <tr>\n",
       "      <th>1</th>\n",
       "      <td>3.911401</td>\n",
       "    </tr>\n",
       "    <tr>\n",
       "      <th>2</th>\n",
       "      <td>3.643212</td>\n",
       "    </tr>\n",
       "    <tr>\n",
       "      <th>3</th>\n",
       "      <td>3.879084</td>\n",
       "    </tr>\n",
       "    <tr>\n",
       "      <th>4</th>\n",
       "      <td>4.130382</td>\n",
       "    </tr>\n",
       "  </tbody>\n",
       "</table>\n",
       "</div>"
      ],
      "text/plain": [
       "      Score\n",
       "0  3.597884\n",
       "1  3.911401\n",
       "2  3.643212\n",
       "3  3.879084\n",
       "4  4.130382"
      ]
     },
     "execution_count": 52,
     "metadata": {},
     "output_type": "execute_result"
    }
   ],
   "source": [
    "score_dis.head()"
   ]
  },
  {
   "cell_type": "code",
   "execution_count": 53,
   "metadata": {},
   "outputs": [
    {
     "data": {
      "text/plain": [
       "(array([ 1.,  0.,  4.,  1., 14., 12., 14., 18.,  7.,  4.]),\n",
       " array([2.34204721, 2.54937255, 2.75669788, 2.96402321, 3.17134855,\n",
       "        3.37867388, 3.58599921, 3.79332455, 4.00064988, 4.20797521,\n",
       "        4.41530055]),\n",
       " <BarContainer object of 10 artists>)"
      ]
     },
     "execution_count": 53,
     "metadata": {},
     "output_type": "execute_result"
    },
    {
     "data": {
      "image/png": "[encoded data removed]",
      "text/plain": [
       "<Figure size 640x480 with 1 Axes>"
      ]
     },
     "metadata": {},
     "output_type": "display_data"
    }
   ],
   "source": [
    "plt.hist(score_dis)"
   ]
  },
  {
   "cell_type": "code",
   "execution_count": 57,
   "metadata": {},
   "outputs": [
    {
     "name": "stdout",
     "output_type": "stream",
     "text": [
      "Score    75\n",
      "dtype: int64\n",
      "Score    3.643212\n",
      "dtype: float64\n",
      "Score    3.632343\n",
      "dtype: float64\n",
      "Score    0.384867\n",
      "dtype: float64\n"
     ]
    }
   ],
   "source": [
    "std_dev = score_dis.std()\n",
    "mea = score_dis.mean()\n",
    "median = score_dis.median()\n",
    "\n",
    "print(score_dis.count())\n",
    "print(median)\n",
    "print(mea)\n",
    "print(std_dev)"
   ]
  }
 ],
 "metadata": {
  "kernelspec": {
   "display_name": "Python 3",
   "language": "python",
   "name": "python3"
  },
  "language_info": {
   "codemirror_mode": {
    "name": "ipython",
    "version": 3
   },
   "file_extension": ".py",
   "mimetype": "text/x-python",
   "name": "python",
   "nbconvert_exporter": "python",
   "pygments_lexer": "ipython3",
   "version": "3.11.7"
  }
 },
 "nbformat": 4,
 "nbformat_minor": 2
}
